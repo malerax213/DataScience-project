{
 "cells": [
  {
   "cell_type": "code",
   "execution_count": 1,
   "metadata": {},
   "outputs": [],
   "source": [
    "import pandas as pd\n",
    "import numpy as np"
   ]
  },
  {
   "cell_type": "code",
   "execution_count": 58,
   "metadata": {},
   "outputs": [],
   "source": [
    "dsKu = pd.read_csv(\"../data/raw/kuwait-population-estimates.csv\", delimiter=\";\")\n",
    "dsEs = pd.read_csv(\"../data/raw/population-estimates-and-projections-1960-2050.csv\", delimiter=\";\")\n",
    "dsPr = pd.read_csv(\"../data/raw/population-projections.csv\", delimiter=\";\")\n",
    "dsUs = pd.read_csv(\"../data/raw/u-s-regional-annual-population-estimates.csv\", delimiter=\";\")\n",
    "dsUp = pd.read_csv(\"../data/raw/world-urbanization-prospects-the-2018-revision-population.csv\", delimiter=\";\")"
   ]
  },
  {
   "cell_type": "code",
   "execution_count": 59,
   "metadata": {},
   "outputs": [
    {
     "data": {
      "text/html": [
       "<div>\n",
       "<style scoped>\n",
       "    .dataframe tbody tr th:only-of-type {\n",
       "        vertical-align: middle;\n",
       "    }\n",
       "\n",
       "    .dataframe tbody tr th {\n",
       "        vertical-align: top;\n",
       "    }\n",
       "\n",
       "    .dataframe thead th {\n",
       "        text-align: right;\n",
       "    }\n",
       "</style>\n",
       "<table border=\"1\" class=\"dataframe\">\n",
       "  <thead>\n",
       "    <tr style=\"text-align: right;\">\n",
       "      <th></th>\n",
       "      <th>Age Group Name</th>\n",
       "      <th>Date</th>\n",
       "      <th>Frequency</th>\n",
       "      <th>Nationality Name</th>\n",
       "      <th>Sex Name</th>\n",
       "      <th>Value</th>\n",
       "    </tr>\n",
       "  </thead>\n",
       "  <tbody>\n",
       "    <tr>\n",
       "      <th>0</th>\n",
       "      <td>75-79</td>\n",
       "      <td>2013</td>\n",
       "      <td>Annual</td>\n",
       "      <td>Total</td>\n",
       "      <td>Female</td>\n",
       "      <td>5003.0</td>\n",
       "    </tr>\n",
       "    <tr>\n",
       "      <th>1</th>\n",
       "      <td>75-79</td>\n",
       "      <td>2014</td>\n",
       "      <td>Annual</td>\n",
       "      <td>Total</td>\n",
       "      <td>Female</td>\n",
       "      <td>5428.0</td>\n",
       "    </tr>\n",
       "    <tr>\n",
       "      <th>2</th>\n",
       "      <td>80+</td>\n",
       "      <td>2015</td>\n",
       "      <td>Annual</td>\n",
       "      <td>Total</td>\n",
       "      <td>Female</td>\n",
       "      <td>5076.0</td>\n",
       "    </tr>\n",
       "    <tr>\n",
       "      <th>3</th>\n",
       "      <td>Less than one year</td>\n",
       "      <td>2016</td>\n",
       "      <td>Annual</td>\n",
       "      <td>Kuwaiti</td>\n",
       "      <td>Total</td>\n",
       "      <td>32603.0</td>\n",
       "    </tr>\n",
       "    <tr>\n",
       "      <th>4</th>\n",
       "      <td>15-19</td>\n",
       "      <td>2012</td>\n",
       "      <td>Annual</td>\n",
       "      <td>Kuwaiti</td>\n",
       "      <td>Total</td>\n",
       "      <td>123558.0</td>\n",
       "    </tr>\n",
       "  </tbody>\n",
       "</table>\n",
       "</div>"
      ],
      "text/plain": [
       "       Age Group Name  Date Frequency Nationality Name Sex Name     Value\n",
       "0               75-79  2013    Annual            Total   Female    5003.0\n",
       "1               75-79  2014    Annual            Total   Female    5428.0\n",
       "2                 80+  2015    Annual            Total   Female    5076.0\n",
       "3  Less than one year  2016    Annual          Kuwaiti    Total   32603.0\n",
       "4               15-19  2012    Annual          Kuwaiti    Total  123558.0"
      ]
     },
     "execution_count": 59,
     "metadata": {},
     "output_type": "execute_result"
    }
   ],
   "source": [
    "dsKu.head()"
   ]
  },
  {
   "cell_type": "code",
   "execution_count": 21,
   "metadata": {},
   "outputs": [
    {
     "data": {
      "text/plain": [
       "Index(['Age Group Name', 'Date', 'Frequency', 'Nationality Name', 'Sex Name',\n",
       "       'Value'],\n",
       "      dtype='object')"
      ]
     },
     "execution_count": 21,
     "metadata": {},
     "output_type": "execute_result"
    }
   ],
   "source": [
    "dsKu.columns"
   ]
  },
  {
   "cell_type": "code",
   "execution_count": 22,
   "metadata": {},
   "outputs": [
    {
     "data": {
      "text/plain": [
       "Age Group Name      1026\n",
       "Date                1026\n",
       "Frequency           1026\n",
       "Nationality Name    1026\n",
       "Sex Name            1026\n",
       "Value               1026\n",
       "dtype: int64"
      ]
     },
     "execution_count": 22,
     "metadata": {},
     "output_type": "execute_result"
    }
   ],
   "source": [
    "dsKu.count()"
   ]
  },
  {
   "cell_type": "code",
   "execution_count": 23,
   "metadata": {},
   "outputs": [
    {
     "name": "stdout",
     "output_type": "stream",
     "text": [
      "<class 'pandas.core.frame.DataFrame'>\n",
      "RangeIndex: 1026 entries, 0 to 1025\n",
      "Data columns (total 6 columns):\n",
      "Age Group Name      1026 non-null object\n",
      "Date                1026 non-null int64\n",
      "Frequency           1026 non-null object\n",
      "Nationality Name    1026 non-null object\n",
      "Sex Name            1026 non-null object\n",
      "Value               1026 non-null float64\n",
      "dtypes: float64(1), int64(1), object(4)\n",
      "memory usage: 48.2+ KB\n"
     ]
    }
   ],
   "source": [
    "dsKu.info()"
   ]
  },
  {
   "cell_type": "code",
   "execution_count": 24,
   "metadata": {},
   "outputs": [
    {
     "data": {
      "text/html": [
       "<div>\n",
       "<style scoped>\n",
       "    .dataframe tbody tr th:only-of-type {\n",
       "        vertical-align: middle;\n",
       "    }\n",
       "\n",
       "    .dataframe tbody tr th {\n",
       "        vertical-align: top;\n",
       "    }\n",
       "\n",
       "    .dataframe thead th {\n",
       "        text-align: right;\n",
       "    }\n",
       "</style>\n",
       "<table border=\"1\" class=\"dataframe\">\n",
       "  <thead>\n",
       "    <tr style=\"text-align: right;\">\n",
       "      <th></th>\n",
       "      <th>Date</th>\n",
       "      <th>Value</th>\n",
       "    </tr>\n",
       "  </thead>\n",
       "  <tbody>\n",
       "    <tr>\n",
       "      <th>count</th>\n",
       "      <td>1026.000000</td>\n",
       "      <td>1.026000e+03</td>\n",
       "    </tr>\n",
       "    <tr>\n",
       "      <th>mean</th>\n",
       "      <td>2014.500000</td>\n",
       "      <td>1.716504e+05</td>\n",
       "    </tr>\n",
       "    <tr>\n",
       "      <th>std</th>\n",
       "      <td>1.708658</td>\n",
       "      <td>4.189834e+05</td>\n",
       "    </tr>\n",
       "    <tr>\n",
       "      <th>min</th>\n",
       "      <td>2012.000000</td>\n",
       "      <td>1.258000e+03</td>\n",
       "    </tr>\n",
       "    <tr>\n",
       "      <th>25%</th>\n",
       "      <td>2013.000000</td>\n",
       "      <td>2.051075e+04</td>\n",
       "    </tr>\n",
       "    <tr>\n",
       "      <th>50%</th>\n",
       "      <td>2014.500000</td>\n",
       "      <td>6.165250e+04</td>\n",
       "    </tr>\n",
       "    <tr>\n",
       "      <th>75%</th>\n",
       "      <td>2016.000000</td>\n",
       "      <td>1.364105e+05</td>\n",
       "    </tr>\n",
       "    <tr>\n",
       "      <th>max</th>\n",
       "      <td>2017.000000</td>\n",
       "      <td>4.082704e+06</td>\n",
       "    </tr>\n",
       "  </tbody>\n",
       "</table>\n",
       "</div>"
      ],
      "text/plain": [
       "              Date         Value\n",
       "count  1026.000000  1.026000e+03\n",
       "mean   2014.500000  1.716504e+05\n",
       "std       1.708658  4.189834e+05\n",
       "min    2012.000000  1.258000e+03\n",
       "25%    2013.000000  2.051075e+04\n",
       "50%    2014.500000  6.165250e+04\n",
       "75%    2016.000000  1.364105e+05\n",
       "max    2017.000000  4.082704e+06"
      ]
     },
     "execution_count": 24,
     "metadata": {},
     "output_type": "execute_result"
    }
   ],
   "source": [
    "dsKu.describe()"
   ]
  },
  {
   "cell_type": "code",
   "execution_count": 25,
   "metadata": {},
   "outputs": [],
   "source": [
    "%matplotlib inline\n",
    "import matplotlib.pyplot as plt\n",
    "import seaborn as sns"
   ]
  },
  {
   "cell_type": "code",
   "execution_count": 27,
   "metadata": {},
   "outputs": [],
   "source": [
    "plt.style.use('fivethirtyeight')\n",
    "plt.rcParams['font.size'] = 11\n",
    "plt.rcParams['patch.edgecolor'] = 'k'"
   ]
  },
  {
   "cell_type": "code",
   "execution_count": 32,
   "metadata": {},
   "outputs": [
    {
     "data": {
      "text/plain": [
       "<matplotlib.axes._subplots.AxesSubplot at 0x1222fd2b0>"
      ]
     },
     "execution_count": 32,
     "metadata": {},
     "output_type": "execute_result"
    },
    {
     "data": {
      "image/png": "[encoded data removed]",
      "text/plain": [
       "<Figure size 432x288 with 1 Axes>"
      ]
     },
     "metadata": {},
     "output_type": "display_data"
    }
   ],
   "source": [
    "dsKu['Date'].plot('hist')3"
   ]
  },
  {
   "cell_type": "code",
   "execution_count": 45,
   "metadata": {},
   "outputs": [
    {
     "data": {
      "text/html": [
       "<div>\n",
       "<style scoped>\n",
       "    .dataframe tbody tr th:only-of-type {\n",
       "        vertical-align: middle;\n",
       "    }\n",
       "\n",
       "    .dataframe tbody tr th {\n",
       "        vertical-align: top;\n",
       "    }\n",
       "\n",
       "    .dataframe thead th {\n",
       "        text-align: right;\n",
       "    }\n",
       "</style>\n",
       "<table border=\"1\" class=\"dataframe\">\n",
       "  <thead>\n",
       "    <tr style=\"text-align: right;\">\n",
       "      <th></th>\n",
       "      <th>Year</th>\n",
       "      <th>COUNTRY</th>\n",
       "      <th>SERIES</th>\n",
       "      <th>UNIT_MEASURE</th>\n",
       "      <th>FREQ</th>\n",
       "      <th>TIME_FORMAT</th>\n",
       "      <th>UNIT_MULT</th>\n",
       "      <th>OBS_VALUE</th>\n",
       "    </tr>\n",
       "  </thead>\n",
       "  <tbody>\n",
       "    <tr>\n",
       "      <th>0</th>\n",
       "      <td>1974</td>\n",
       "      <td>Algeria</td>\n",
       "      <td>Population growth (annual %)</td>\n",
       "      <td>%</td>\n",
       "      <td>Annual</td>\n",
       "      <td>Annual</td>\n",
       "      <td>Units</td>\n",
       "      <td>2.762508</td>\n",
       "    </tr>\n",
       "    <tr>\n",
       "      <th>1</th>\n",
       "      <td>1988</td>\n",
       "      <td>Algeria</td>\n",
       "      <td>Population growth (annual %)</td>\n",
       "      <td>%</td>\n",
       "      <td>Annual</td>\n",
       "      <td>Annual</td>\n",
       "      <td>Units</td>\n",
       "      <td>2.777390</td>\n",
       "    </tr>\n",
       "    <tr>\n",
       "      <th>2</th>\n",
       "      <td>2000</td>\n",
       "      <td>Algeria</td>\n",
       "      <td>Population growth (annual %)</td>\n",
       "      <td>%</td>\n",
       "      <td>Annual</td>\n",
       "      <td>Annual</td>\n",
       "      <td>Units</td>\n",
       "      <td>1.346608</td>\n",
       "    </tr>\n",
       "    <tr>\n",
       "      <th>3</th>\n",
       "      <td>2006</td>\n",
       "      <td>Algeria</td>\n",
       "      <td>Population growth (annual %)</td>\n",
       "      <td>%</td>\n",
       "      <td>Annual</td>\n",
       "      <td>Annual</td>\n",
       "      <td>Units</td>\n",
       "      <td>1.436793</td>\n",
       "    </tr>\n",
       "    <tr>\n",
       "      <th>4</th>\n",
       "      <td>2009</td>\n",
       "      <td>Algeria</td>\n",
       "      <td>Population growth (annual %)</td>\n",
       "      <td>%</td>\n",
       "      <td>Annual</td>\n",
       "      <td>Annual</td>\n",
       "      <td>Units</td>\n",
       "      <td>1.682726</td>\n",
       "    </tr>\n",
       "  </tbody>\n",
       "</table>\n",
       "</div>"
      ],
      "text/plain": [
       "   Year  COUNTRY                        SERIES UNIT_MEASURE    FREQ  \\\n",
       "0  1974  Algeria  Population growth (annual %)            %  Annual   \n",
       "1  1988  Algeria  Population growth (annual %)            %  Annual   \n",
       "2  2000  Algeria  Population growth (annual %)            %  Annual   \n",
       "3  2006  Algeria  Population growth (annual %)            %  Annual   \n",
       "4  2009  Algeria  Population growth (annual %)            %  Annual   \n",
       "\n",
       "  TIME_FORMAT UNIT_MULT  OBS_VALUE  \n",
       "0      Annual     Units   2.762508  \n",
       "1      Annual     Units   2.777390  \n",
       "2      Annual     Units   1.346608  \n",
       "3      Annual     Units   1.436793  \n",
       "4      Annual     Units   1.682726  "
      ]
     },
     "execution_count": 45,
     "metadata": {},
     "output_type": "execute_result"
    }
   ],
   "source": [
    "dsEs.head()"
   ]
  },
  {
   "cell_type": "code",
   "execution_count": 46,
   "metadata": {},
   "outputs": [
    {
     "data": {
      "text/plain": [
       "Index(['Year', 'COUNTRY', 'SERIES', 'UNIT_MEASURE', 'FREQ', 'TIME_FORMAT',\n",
       "       'UNIT_MULT', 'OBS_VALUE'],\n",
       "      dtype='object')"
      ]
     },
     "execution_count": 46,
     "metadata": {},
     "output_type": "execute_result"
    }
   ],
   "source": [
    "dsEs.columns"
   ]
  },
  {
   "cell_type": "code",
   "execution_count": 47,
   "metadata": {},
   "outputs": [
    {
     "data": {
      "text/html": [
       "<div>\n",
       "<style scoped>\n",
       "    .dataframe tbody tr th:only-of-type {\n",
       "        vertical-align: middle;\n",
       "    }\n",
       "\n",
       "    .dataframe tbody tr th {\n",
       "        vertical-align: top;\n",
       "    }\n",
       "\n",
       "    .dataframe thead th {\n",
       "        text-align: right;\n",
       "    }\n",
       "</style>\n",
       "<table border=\"1\" class=\"dataframe\">\n",
       "  <thead>\n",
       "    <tr style=\"text-align: right;\">\n",
       "      <th></th>\n",
       "      <th>Year</th>\n",
       "      <th>OBS_VALUE</th>\n",
       "    </tr>\n",
       "  </thead>\n",
       "  <tbody>\n",
       "    <tr>\n",
       "      <th>count</th>\n",
       "      <td>376565.000000</td>\n",
       "      <td>3.765650e+05</td>\n",
       "    </tr>\n",
       "    <tr>\n",
       "      <th>mean</th>\n",
       "      <td>2000.884248</td>\n",
       "      <td>1.309511e+06</td>\n",
       "    </tr>\n",
       "    <tr>\n",
       "      <th>std</th>\n",
       "      <td>25.326572</td>\n",
       "      <td>2.355504e+07</td>\n",
       "    </tr>\n",
       "    <tr>\n",
       "      <th>min</th>\n",
       "      <td>1960.000000</td>\n",
       "      <td>-3.570954e+06</td>\n",
       "    </tr>\n",
       "    <tr>\n",
       "      <th>25%</th>\n",
       "      <td>1979.000000</td>\n",
       "      <td>9.000000e+00</td>\n",
       "    </tr>\n",
       "    <tr>\n",
       "      <th>50%</th>\n",
       "      <td>1999.000000</td>\n",
       "      <td>3.000000e+03</td>\n",
       "    </tr>\n",
       "    <tr>\n",
       "      <th>75%</th>\n",
       "      <td>2020.000000</td>\n",
       "      <td>1.189000e+05</td>\n",
       "    </tr>\n",
       "    <tr>\n",
       "      <th>max</th>\n",
       "      <td>2050.000000</td>\n",
       "      <td>1.409963e+09</td>\n",
       "    </tr>\n",
       "  </tbody>\n",
       "</table>\n",
       "</div>"
      ],
      "text/plain": [
       "                Year     OBS_VALUE\n",
       "count  376565.000000  3.765650e+05\n",
       "mean     2000.884248  1.309511e+06\n",
       "std        25.326572  2.355504e+07\n",
       "min      1960.000000 -3.570954e+06\n",
       "25%      1979.000000  9.000000e+00\n",
       "50%      1999.000000  3.000000e+03\n",
       "75%      2020.000000  1.189000e+05\n",
       "max      2050.000000  1.409963e+09"
      ]
     },
     "execution_count": 47,
     "metadata": {},
     "output_type": "execute_result"
    }
   ],
   "source": [
    "dsEs.describe()"
   ]
  },
  {
   "cell_type": "code",
   "execution_count": 48,
   "metadata": {},
   "outputs": [
    {
     "name": "stdout",
     "output_type": "stream",
     "text": [
      "<class 'pandas.core.frame.DataFrame'>\n",
      "RangeIndex: 376565 entries, 0 to 376564\n",
      "Data columns (total 8 columns):\n",
      "Year            376565 non-null int64\n",
      "COUNTRY         376565 non-null object\n",
      "SERIES          376565 non-null object\n",
      "UNIT_MEASURE    376565 non-null object\n",
      "FREQ            376565 non-null object\n",
      "TIME_FORMAT     376565 non-null object\n",
      "UNIT_MULT       376565 non-null object\n",
      "OBS_VALUE       376565 non-null float64\n",
      "dtypes: float64(1), int64(1), object(6)\n",
      "memory usage: 23.0+ MB\n"
     ]
    }
   ],
   "source": [
    "dsEs.info()"
   ]
  },
  {
   "cell_type": "code",
   "execution_count": 49,
   "metadata": {},
   "outputs": [
    {
     "data": {
      "text/plain": [
       "Year            376565\n",
       "COUNTRY         376565\n",
       "SERIES          376565\n",
       "UNIT_MEASURE    376565\n",
       "FREQ            376565\n",
       "TIME_FORMAT     376565\n",
       "UNIT_MULT       376565\n",
       "OBS_VALUE       376565\n",
       "dtype: int64"
      ]
     },
     "execution_count": 49,
     "metadata": {},
     "output_type": "execute_result"
    }
   ],
   "source": [
    "dsEs.count()"
   ]
  },
  {
   "cell_type": "code",
   "execution_count": 52,
   "metadata": {},
   "outputs": [
    {
     "data": {
      "text/plain": [
       "<matplotlib.axes._subplots.AxesSubplot at 0x13017e4a8>"
      ]
     },
     "execution_count": 52,
     "metadata": {},
     "output_type": "execute_result"
    },
    {
     "data": {
      "image/png": "[encoded data removed]",
      "text/plain": [
       "<Figure size 432x288 with 1 Axes>"
      ]
     },
     "metadata": {},
     "output_type": "display_data"
    }
   ],
   "source": [
    "dsEs['Year'].plot('hist')"
   ]
  },
  {
   "cell_type": "code",
   "execution_count": 61,
   "metadata": {},
   "outputs": [
    {
     "data": {
      "text/html": [
       "<div>\n",
       "<style scoped>\n",
       "    .dataframe tbody tr th:only-of-type {\n",
       "        vertical-align: middle;\n",
       "    }\n",
       "\n",
       "    .dataframe tbody tr th {\n",
       "        vertical-align: top;\n",
       "    }\n",
       "\n",
       "    .dataframe thead th {\n",
       "        text-align: right;\n",
       "    }\n",
       "</style>\n",
       "<table border=\"1\" class=\"dataframe\">\n",
       "  <thead>\n",
       "    <tr style=\"text-align: right;\">\n",
       "      <th></th>\n",
       "      <th>Year</th>\n",
       "      <th>Population in 000</th>\n",
       "    </tr>\n",
       "  </thead>\n",
       "  <tbody>\n",
       "    <tr>\n",
       "      <th>0</th>\n",
       "      <td>2021</td>\n",
       "      <td>1650</td>\n",
       "    </tr>\n",
       "    <tr>\n",
       "      <th>1</th>\n",
       "      <td>2022</td>\n",
       "      <td>1702</td>\n",
       "    </tr>\n",
       "    <tr>\n",
       "      <th>2</th>\n",
       "      <td>2026</td>\n",
       "      <td>1915</td>\n",
       "    </tr>\n",
       "    <tr>\n",
       "      <th>3</th>\n",
       "      <td>2027</td>\n",
       "      <td>1973</td>\n",
       "    </tr>\n",
       "    <tr>\n",
       "      <th>4</th>\n",
       "      <td>2028</td>\n",
       "      <td>2026</td>\n",
       "    </tr>\n",
       "  </tbody>\n",
       "</table>\n",
       "</div>"
      ],
      "text/plain": [
       "   Year  Population in 000\n",
       "0  2021               1650\n",
       "1  2022               1702\n",
       "2  2026               1915\n",
       "3  2027               1973\n",
       "4  2028               2026"
      ]
     },
     "execution_count": 61,
     "metadata": {},
     "output_type": "execute_result"
    }
   ],
   "source": [
    "dsPr.head()"
   ]
  },
  {
   "cell_type": "code",
   "execution_count": 60,
   "metadata": {},
   "outputs": [
    {
     "data": {
      "text/html": [
       "<div>\n",
       "<style scoped>\n",
       "    .dataframe tbody tr th:only-of-type {\n",
       "        vertical-align: middle;\n",
       "    }\n",
       "\n",
       "    .dataframe tbody tr th {\n",
       "        vertical-align: top;\n",
       "    }\n",
       "\n",
       "    .dataframe thead th {\n",
       "        text-align: right;\n",
       "    }\n",
       "</style>\n",
       "<table border=\"1\" class=\"dataframe\">\n",
       "  <thead>\n",
       "    <tr style=\"text-align: right;\">\n",
       "      <th></th>\n",
       "      <th>Year</th>\n",
       "      <th>Population in 000</th>\n",
       "    </tr>\n",
       "  </thead>\n",
       "  <tbody>\n",
       "    <tr>\n",
       "      <th>count</th>\n",
       "      <td>14.0000</td>\n",
       "      <td>14.000000</td>\n",
       "    </tr>\n",
       "    <tr>\n",
       "      <th>mean</th>\n",
       "      <td>2025.5000</td>\n",
       "      <td>1893.714286</td>\n",
       "    </tr>\n",
       "    <tr>\n",
       "      <th>std</th>\n",
       "      <td>4.1833</td>\n",
       "      <td>228.244615</td>\n",
       "    </tr>\n",
       "    <tr>\n",
       "      <th>min</th>\n",
       "      <td>2019.0000</td>\n",
       "      <td>1550.000000</td>\n",
       "    </tr>\n",
       "    <tr>\n",
       "      <th>25%</th>\n",
       "      <td>2022.2500</td>\n",
       "      <td>1714.750000</td>\n",
       "    </tr>\n",
       "    <tr>\n",
       "      <th>50%</th>\n",
       "      <td>2025.5000</td>\n",
       "      <td>1887.000000</td>\n",
       "    </tr>\n",
       "    <tr>\n",
       "      <th>75%</th>\n",
       "      <td>2028.7500</td>\n",
       "      <td>2068.000000</td>\n",
       "    </tr>\n",
       "    <tr>\n",
       "      <th>max</th>\n",
       "      <td>2032.0000</td>\n",
       "      <td>2260.000000</td>\n",
       "    </tr>\n",
       "  </tbody>\n",
       "</table>\n",
       "</div>"
      ],
      "text/plain": [
       "            Year  Population in 000\n",
       "count    14.0000          14.000000\n",
       "mean   2025.5000        1893.714286\n",
       "std       4.1833         228.244615\n",
       "min    2019.0000        1550.000000\n",
       "25%    2022.2500        1714.750000\n",
       "50%    2025.5000        1887.000000\n",
       "75%    2028.7500        2068.000000\n",
       "max    2032.0000        2260.000000"
      ]
     },
     "execution_count": 60,
     "metadata": {},
     "output_type": "execute_result"
    }
   ],
   "source": [
    "dsPr.describe()"
   ]
  },
  {
   "cell_type": "code",
   "execution_count": 62,
   "metadata": {},
   "outputs": [
    {
     "name": "stdout",
     "output_type": "stream",
     "text": [
      "<class 'pandas.core.frame.DataFrame'>\n",
      "RangeIndex: 14 entries, 0 to 13\n",
      "Data columns (total 2 columns):\n",
      "Year                 14 non-null int64\n",
      "Population in 000    14 non-null int64\n",
      "dtypes: int64(2)\n",
      "memory usage: 304.0 bytes\n"
     ]
    }
   ],
   "source": [
    "dsPr.info()"
   ]
  },
  {
   "cell_type": "code",
   "execution_count": 63,
   "metadata": {},
   "outputs": [
    {
     "data": {
      "text/plain": [
       "Index(['Year', 'Population in 000'], dtype='object')"
      ]
     },
     "execution_count": 63,
     "metadata": {},
     "output_type": "execute_result"
    }
   ],
   "source": [
    "dsPr.columns"
   ]
  },
  {
   "cell_type": "code",
   "execution_count": 64,
   "metadata": {},
   "outputs": [
    {
     "data": {
      "text/plain": [
       "Year                 14\n",
       "Population in 000    14\n",
       "dtype: int64"
      ]
     },
     "execution_count": 64,
     "metadata": {},
     "output_type": "execute_result"
    }
   ],
   "source": [
    "dsPr.count()"
   ]
  },
  {
   "cell_type": "code",
   "execution_count": 66,
   "metadata": {},
   "outputs": [],
   "source": [
    "dsPr['Population in 000'] = dsPr['Population in 000'].astype(int) * 1000"
   ]
  },
  {
   "cell_type": "markdown",
   "metadata": {},
   "source": [
    "The original information was showed in K (1650 instead of 1650000). In order to solve that we multiplied each value to 1000 and renamed the column to \"Population\"."
   ]
  },
  {
   "cell_type": "code",
   "execution_count": 67,
   "metadata": {},
   "outputs": [
    {
     "data": {
      "text/html": [
       "<div>\n",
       "<style scoped>\n",
       "    .dataframe tbody tr th:only-of-type {\n",
       "        vertical-align: middle;\n",
       "    }\n",
       "\n",
       "    .dataframe tbody tr th {\n",
       "        vertical-align: top;\n",
       "    }\n",
       "\n",
       "    .dataframe thead th {\n",
       "        text-align: right;\n",
       "    }\n",
       "</style>\n",
       "<table border=\"1\" class=\"dataframe\">\n",
       "  <thead>\n",
       "    <tr style=\"text-align: right;\">\n",
       "      <th></th>\n",
       "      <th>Year</th>\n",
       "      <th>Population in 000</th>\n",
       "    </tr>\n",
       "  </thead>\n",
       "  <tbody>\n",
       "    <tr>\n",
       "      <th>0</th>\n",
       "      <td>2021</td>\n",
       "      <td>1650000</td>\n",
       "    </tr>\n",
       "    <tr>\n",
       "      <th>1</th>\n",
       "      <td>2022</td>\n",
       "      <td>1702000</td>\n",
       "    </tr>\n",
       "    <tr>\n",
       "      <th>2</th>\n",
       "      <td>2026</td>\n",
       "      <td>1915000</td>\n",
       "    </tr>\n",
       "    <tr>\n",
       "      <th>3</th>\n",
       "      <td>2027</td>\n",
       "      <td>1973000</td>\n",
       "    </tr>\n",
       "    <tr>\n",
       "      <th>4</th>\n",
       "      <td>2028</td>\n",
       "      <td>2026000</td>\n",
       "    </tr>\n",
       "  </tbody>\n",
       "</table>\n",
       "</div>"
      ],
      "text/plain": [
       "   Year  Population in 000\n",
       "0  2021            1650000\n",
       "1  2022            1702000\n",
       "2  2026            1915000\n",
       "3  2027            1973000\n",
       "4  2028            2026000"
      ]
     },
     "execution_count": 67,
     "metadata": {},
     "output_type": "execute_result"
    }
   ],
   "source": [
    "dsPr.head()"
   ]
  },
  {
   "cell_type": "code",
   "execution_count": 68,
   "metadata": {},
   "outputs": [],
   "source": [
    "dsPr.rename(columns={'Population in 000':'Population'}, \n",
    "                 inplace=True)"
   ]
  },
  {
   "cell_type": "code",
   "execution_count": 69,
   "metadata": {},
   "outputs": [
    {
     "data": {
      "text/html": [
       "<div>\n",
       "<style scoped>\n",
       "    .dataframe tbody tr th:only-of-type {\n",
       "        vertical-align: middle;\n",
       "    }\n",
       "\n",
       "    .dataframe tbody tr th {\n",
       "        vertical-align: top;\n",
       "    }\n",
       "\n",
       "    .dataframe thead th {\n",
       "        text-align: right;\n",
       "    }\n",
       "</style>\n",
       "<table border=\"1\" class=\"dataframe\">\n",
       "  <thead>\n",
       "    <tr style=\"text-align: right;\">\n",
       "      <th></th>\n",
       "      <th>Year</th>\n",
       "      <th>Population</th>\n",
       "    </tr>\n",
       "  </thead>\n",
       "  <tbody>\n",
       "    <tr>\n",
       "      <th>0</th>\n",
       "      <td>2021</td>\n",
       "      <td>1650000</td>\n",
       "    </tr>\n",
       "    <tr>\n",
       "      <th>1</th>\n",
       "      <td>2022</td>\n",
       "      <td>1702000</td>\n",
       "    </tr>\n",
       "    <tr>\n",
       "      <th>2</th>\n",
       "      <td>2026</td>\n",
       "      <td>1915000</td>\n",
       "    </tr>\n",
       "    <tr>\n",
       "      <th>3</th>\n",
       "      <td>2027</td>\n",
       "      <td>1973000</td>\n",
       "    </tr>\n",
       "    <tr>\n",
       "      <th>4</th>\n",
       "      <td>2028</td>\n",
       "      <td>2026000</td>\n",
       "    </tr>\n",
       "  </tbody>\n",
       "</table>\n",
       "</div>"
      ],
      "text/plain": [
       "   Year  Population\n",
       "0  2021     1650000\n",
       "1  2022     1702000\n",
       "2  2026     1915000\n",
       "3  2027     1973000\n",
       "4  2028     2026000"
      ]
     },
     "execution_count": 69,
     "metadata": {},
     "output_type": "execute_result"
    }
   ],
   "source": [
    "dsPr.head()"
   ]
  },
  {
   "cell_type": "code",
   "execution_count": 70,
   "metadata": {},
   "outputs": [
    {
     "data": {
      "text/html": [
       "<div>\n",
       "<style scoped>\n",
       "    .dataframe tbody tr th:only-of-type {\n",
       "        vertical-align: middle;\n",
       "    }\n",
       "\n",
       "    .dataframe tbody tr th {\n",
       "        vertical-align: top;\n",
       "    }\n",
       "\n",
       "    .dataframe thead th {\n",
       "        text-align: right;\n",
       "    }\n",
       "</style>\n",
       "<table border=\"1\" class=\"dataframe\">\n",
       "  <thead>\n",
       "    <tr style=\"text-align: right;\">\n",
       "      <th></th>\n",
       "      <th>Year</th>\n",
       "      <th>Population</th>\n",
       "    </tr>\n",
       "  </thead>\n",
       "  <tbody>\n",
       "    <tr>\n",
       "      <th>count</th>\n",
       "      <td>14.0000</td>\n",
       "      <td>1.400000e+01</td>\n",
       "    </tr>\n",
       "    <tr>\n",
       "      <th>mean</th>\n",
       "      <td>2025.5000</td>\n",
       "      <td>1.893714e+06</td>\n",
       "    </tr>\n",
       "    <tr>\n",
       "      <th>std</th>\n",
       "      <td>4.1833</td>\n",
       "      <td>2.282446e+05</td>\n",
       "    </tr>\n",
       "    <tr>\n",
       "      <th>min</th>\n",
       "      <td>2019.0000</td>\n",
       "      <td>1.550000e+06</td>\n",
       "    </tr>\n",
       "    <tr>\n",
       "      <th>25%</th>\n",
       "      <td>2022.2500</td>\n",
       "      <td>1.714750e+06</td>\n",
       "    </tr>\n",
       "    <tr>\n",
       "      <th>50%</th>\n",
       "      <td>2025.5000</td>\n",
       "      <td>1.887000e+06</td>\n",
       "    </tr>\n",
       "    <tr>\n",
       "      <th>75%</th>\n",
       "      <td>2028.7500</td>\n",
       "      <td>2.068000e+06</td>\n",
       "    </tr>\n",
       "    <tr>\n",
       "      <th>max</th>\n",
       "      <td>2032.0000</td>\n",
       "      <td>2.260000e+06</td>\n",
       "    </tr>\n",
       "  </tbody>\n",
       "</table>\n",
       "</div>"
      ],
      "text/plain": [
       "            Year    Population\n",
       "count    14.0000  1.400000e+01\n",
       "mean   2025.5000  1.893714e+06\n",
       "std       4.1833  2.282446e+05\n",
       "min    2019.0000  1.550000e+06\n",
       "25%    2022.2500  1.714750e+06\n",
       "50%    2025.5000  1.887000e+06\n",
       "75%    2028.7500  2.068000e+06\n",
       "max    2032.0000  2.260000e+06"
      ]
     },
     "execution_count": 70,
     "metadata": {},
     "output_type": "execute_result"
    }
   ],
   "source": [
    "dsPr.describe()"
   ]
  },
  {
   "cell_type": "code",
   "execution_count": 71,
   "metadata": {},
   "outputs": [
    {
     "data": {
      "text/html": [
       "<div>\n",
       "<style scoped>\n",
       "    .dataframe tbody tr th:only-of-type {\n",
       "        vertical-align: middle;\n",
       "    }\n",
       "\n",
       "    .dataframe tbody tr th {\n",
       "        vertical-align: top;\n",
       "    }\n",
       "\n",
       "    .dataframe thead th {\n",
       "        text-align: right;\n",
       "    }\n",
       "</style>\n",
       "<table border=\"1\" class=\"dataframe\">\n",
       "  <thead>\n",
       "    <tr style=\"text-align: right;\">\n",
       "      <th></th>\n",
       "      <th>Date</th>\n",
       "      <th>Frequency</th>\n",
       "      <th>Region</th>\n",
       "      <th>Value</th>\n",
       "      <th>Variable Name</th>\n",
       "    </tr>\n",
       "  </thead>\n",
       "  <tbody>\n",
       "    <tr>\n",
       "      <th>0</th>\n",
       "      <td>2001</td>\n",
       "      <td>Annual</td>\n",
       "      <td>United States</td>\n",
       "      <td>284968955.0</td>\n",
       "      <td>Intercensal Estimates of the Resident Populati...</td>\n",
       "    </tr>\n",
       "    <tr>\n",
       "      <th>1</th>\n",
       "      <td>2005</td>\n",
       "      <td>Annual</td>\n",
       "      <td>United States</td>\n",
       "      <td>295516599.0</td>\n",
       "      <td>Intercensal Estimates of the Resident Populati...</td>\n",
       "    </tr>\n",
       "    <tr>\n",
       "      <th>2</th>\n",
       "      <td>2008</td>\n",
       "      <td>Annual</td>\n",
       "      <td>United States</td>\n",
       "      <td>304093966.0</td>\n",
       "      <td>Intercensal Estimates of the Resident Populati...</td>\n",
       "    </tr>\n",
       "    <tr>\n",
       "      <th>3</th>\n",
       "      <td>2009</td>\n",
       "      <td>Annual</td>\n",
       "      <td>United States</td>\n",
       "      <td>306771529.0</td>\n",
       "      <td>Intercensal Estimates of the Resident Populati...</td>\n",
       "    </tr>\n",
       "    <tr>\n",
       "      <th>4</th>\n",
       "      <td>2002</td>\n",
       "      <td>Annual</td>\n",
       "      <td>Northeast</td>\n",
       "      <td>54143915.0</td>\n",
       "      <td>Intercensal Estimates of the Resident Populati...</td>\n",
       "    </tr>\n",
       "  </tbody>\n",
       "</table>\n",
       "</div>"
      ],
      "text/plain": [
       "   Date Frequency         Region        Value  \\\n",
       "0  2001    Annual  United States  284968955.0   \n",
       "1  2005    Annual  United States  295516599.0   \n",
       "2  2008    Annual  United States  304093966.0   \n",
       "3  2009    Annual  United States  306771529.0   \n",
       "4  2002    Annual      Northeast   54143915.0   \n",
       "\n",
       "                                       Variable Name  \n",
       "0  Intercensal Estimates of the Resident Populati...  \n",
       "1  Intercensal Estimates of the Resident Populati...  \n",
       "2  Intercensal Estimates of the Resident Populati...  \n",
       "3  Intercensal Estimates of the Resident Populati...  \n",
       "4  Intercensal Estimates of the Resident Populati...  "
      ]
     },
     "execution_count": 71,
     "metadata": {},
     "output_type": "execute_result"
    }
   ],
   "source": [
    "dsUs.head()"
   ]
  },
  {
   "cell_type": "code",
   "execution_count": 72,
   "metadata": {},
   "outputs": [
    {
     "name": "stdout",
     "output_type": "stream",
     "text": [
      "<class 'pandas.core.frame.DataFrame'>\n",
      "RangeIndex: 1026 entries, 0 to 1025\n",
      "Data columns (total 5 columns):\n",
      "Date             1026 non-null int64\n",
      "Frequency        1026 non-null object\n",
      "Region           1026 non-null object\n",
      "Value            1026 non-null float64\n",
      "Variable Name    1026 non-null object\n",
      "dtypes: float64(1), int64(1), object(3)\n",
      "memory usage: 40.2+ KB\n"
     ]
    }
   ],
   "source": [
    "dsUs.info()"
   ]
  },
  {
   "cell_type": "code",
   "execution_count": 73,
   "metadata": {},
   "outputs": [
    {
     "data": {
      "text/plain": [
       "Index(['Date', 'Frequency', 'Region', 'Value', 'Variable Name'], dtype='object')"
      ]
     },
     "execution_count": 73,
     "metadata": {},
     "output_type": "execute_result"
    }
   ],
   "source": [
    "dsUs.columns"
   ]
  },
  {
   "cell_type": "code",
   "execution_count": 74,
   "metadata": {},
   "outputs": [
    {
     "data": {
      "text/plain": [
       "Date             1026\n",
       "Frequency        1026\n",
       "Region           1026\n",
       "Value            1026\n",
       "Variable Name    1026\n",
       "dtype: int64"
      ]
     },
     "execution_count": 74,
     "metadata": {},
     "output_type": "execute_result"
    }
   ],
   "source": [
    "dsUs.count()"
   ]
  },
  {
   "cell_type": "code",
   "execution_count": 75,
   "metadata": {},
   "outputs": [
    {
     "data": {
      "text/plain": [
       "0       Intercensal Estimates of the Resident Populati...\n",
       "1       Intercensal Estimates of the Resident Populati...\n",
       "2       Intercensal Estimates of the Resident Populati...\n",
       "3       Intercensal Estimates of the Resident Populati...\n",
       "4       Intercensal Estimates of the Resident Populati...\n",
       "5       Intercensal Estimates of the Resident Populati...\n",
       "6       Intercensal Estimates of the Resident Populati...\n",
       "7       Intercensal Estimates of the Resident Populati...\n",
       "8       Intercensal Estimates of the Resident Populati...\n",
       "9       Intercensal Estimates of the Resident Populati...\n",
       "10      Intercensal Estimates of the Resident Populati...\n",
       "11      Intercensal Estimates of the Resident Populati...\n",
       "12      Intercensal Estimates of the Resident Populati...\n",
       "13      Intercensal Estimates of the Resident Populati...\n",
       "14      Intercensal Estimates of the Resident Populati...\n",
       "15      Intercensal Estimates of the Resident Populati...\n",
       "16      Intercensal Estimates of the Resident Populati...\n",
       "17      Intercensal Estimates of the Resident Populati...\n",
       "18      Intercensal Estimates of the Resident Populati...\n",
       "19      Intercensal Estimates of the Resident Populati...\n",
       "20      Intercensal Estimates of the Resident Populati...\n",
       "21      Intercensal Estimates of the Resident Populati...\n",
       "22      Intercensal Estimates of the Resident Populati...\n",
       "23      Intercensal Estimates of the Resident Populati...\n",
       "24      Intercensal Estimates of the Resident Populati...\n",
       "25      Intercensal Estimates of the Resident Populati...\n",
       "26      Intercensal Estimates of the Resident Populati...\n",
       "27      Intercensal Estimates of the Resident Populati...\n",
       "28      Intercensal Estimates of the Resident Populati...\n",
       "29      Intercensal Estimates of the Resident Populati...\n",
       "                              ...                        \n",
       "996     Intercensal Estimates of the Resident Populati...\n",
       "997     Intercensal Estimates of the Resident Populati...\n",
       "998     Intercensal Estimates of the Resident Populati...\n",
       "999     Intercensal Estimates of the Resident Populati...\n",
       "1000    Intercensal Estimates of the Resident Populati...\n",
       "1001    Intercensal Estimates of the Resident Populati...\n",
       "1002    Intercensal Estimates of the Resident Populati...\n",
       "1003    Intercensal Estimates of the Resident Populati...\n",
       "1004    Intercensal Estimates of the Resident Populati...\n",
       "1005    Intercensal Estimates of the Resident Populati...\n",
       "1006    Intercensal Estimates of the Resident Populati...\n",
       "1007    Intercensal Estimates of the Resident Populati...\n",
       "1008    Intercensal Estimates of the Resident Populati...\n",
       "1009    Intercensal Estimates of the Resident Populati...\n",
       "1010    Intercensal Estimates of the Resident Populati...\n",
       "1011    Intercensal Estimates of the Resident Populati...\n",
       "1012    Intercensal Estimates of the Resident Populati...\n",
       "1013    Intercensal Estimates of the Resident Populati...\n",
       "1014    Intercensal Estimates of the Resident Populati...\n",
       "1015    Intercensal Estimates of the Resident Populati...\n",
       "1016    Intercensal Estimates of the Resident Populati...\n",
       "1017    Intercensal Estimates of the Resident Populati...\n",
       "1018    Intercensal Estimates of the Resident Populati...\n",
       "1019    Intercensal Estimates of the Resident Populati...\n",
       "1020    Intercensal Estimates of the Resident Populati...\n",
       "1021    Intercensal Estimates of the Resident Populati...\n",
       "1022    Intercensal Estimates of the Resident Populati...\n",
       "1023    Intercensal Estimates of the Resident Populati...\n",
       "1024    Intercensal Estimates of the Resident Populati...\n",
       "1025    Intercensal Estimates of the Resident Populati...\n",
       "Name: Variable Name, Length: 1026, dtype: object"
      ]
     },
     "execution_count": 75,
     "metadata": {},
     "output_type": "execute_result"
    }
   ],
   "source": [
    "dsUs['Variable Name']"
   ]
  },
  {
   "cell_type": "code",
   "execution_count": 76,
   "metadata": {},
   "outputs": [],
   "source": [
    "dsUs = dsUs.drop(columns=\"Variable Name\")"
   ]
  },
  {
   "cell_type": "markdown",
   "metadata": {},
   "source": [
    "We deleted the columns \"Variable Name\" since it just had the same value repeated."
   ]
  },
  {
   "cell_type": "code",
   "execution_count": 77,
   "metadata": {},
   "outputs": [
    {
     "data": {
      "text/plain": [
       "Index(['Date', 'Frequency', 'Region', 'Value'], dtype='object')"
      ]
     },
     "execution_count": 77,
     "metadata": {},
     "output_type": "execute_result"
    }
   ],
   "source": [
    "dsUs.columns"
   ]
  },
  {
   "cell_type": "code",
   "execution_count": 78,
   "metadata": {},
   "outputs": [
    {
     "data": {
      "text/html": [
       "<div>\n",
       "<style scoped>\n",
       "    .dataframe tbody tr th:only-of-type {\n",
       "        vertical-align: middle;\n",
       "    }\n",
       "\n",
       "    .dataframe tbody tr th {\n",
       "        vertical-align: top;\n",
       "    }\n",
       "\n",
       "    .dataframe thead th {\n",
       "        text-align: right;\n",
       "    }\n",
       "</style>\n",
       "<table border=\"1\" class=\"dataframe\">\n",
       "  <thead>\n",
       "    <tr style=\"text-align: right;\">\n",
       "      <th></th>\n",
       "      <th>Date</th>\n",
       "      <th>Value</th>\n",
       "    </tr>\n",
       "  </thead>\n",
       "  <tbody>\n",
       "    <tr>\n",
       "      <th>count</th>\n",
       "      <td>1026.000000</td>\n",
       "      <td>1.026000e+03</td>\n",
       "    </tr>\n",
       "    <tr>\n",
       "      <th>mean</th>\n",
       "      <td>2008.500000</td>\n",
       "      <td>1.609881e+07</td>\n",
       "    </tr>\n",
       "    <tr>\n",
       "      <th>std</th>\n",
       "      <td>5.190658</td>\n",
       "      <td>4.344608e+07</td>\n",
       "    </tr>\n",
       "    <tr>\n",
       "      <th>min</th>\n",
       "      <td>2000.000000</td>\n",
       "      <td>4.943000e+05</td>\n",
       "    </tr>\n",
       "    <tr>\n",
       "      <th>25%</th>\n",
       "      <td>2004.000000</td>\n",
       "      <td>1.835481e+06</td>\n",
       "    </tr>\n",
       "    <tr>\n",
       "      <th>50%</th>\n",
       "      <td>2008.500000</td>\n",
       "      <td>4.548554e+06</td>\n",
       "    </tr>\n",
       "    <tr>\n",
       "      <th>75%</th>\n",
       "      <td>2013.000000</td>\n",
       "      <td>9.089939e+06</td>\n",
       "    </tr>\n",
       "    <tr>\n",
       "      <th>max</th>\n",
       "      <td>2017.000000</td>\n",
       "      <td>3.257192e+08</td>\n",
       "    </tr>\n",
       "  </tbody>\n",
       "</table>\n",
       "</div>"
      ],
      "text/plain": [
       "              Date         Value\n",
       "count  1026.000000  1.026000e+03\n",
       "mean   2008.500000  1.609881e+07\n",
       "std       5.190658  4.344608e+07\n",
       "min    2000.000000  4.943000e+05\n",
       "25%    2004.000000  1.835481e+06\n",
       "50%    2008.500000  4.548554e+06\n",
       "75%    2013.000000  9.089939e+06\n",
       "max    2017.000000  3.257192e+08"
      ]
     },
     "execution_count": 78,
     "metadata": {},
     "output_type": "execute_result"
    }
   ],
   "source": [
    "dsUs.describe()"
   ]
  },
  {
   "cell_type": "code",
   "execution_count": 79,
   "metadata": {},
   "outputs": [
    {
     "data": {
      "text/html": [
       "<div>\n",
       "<style scoped>\n",
       "    .dataframe tbody tr th:only-of-type {\n",
       "        vertical-align: middle;\n",
       "    }\n",
       "\n",
       "    .dataframe tbody tr th {\n",
       "        vertical-align: top;\n",
       "    }\n",
       "\n",
       "    .dataframe thead th {\n",
       "        text-align: right;\n",
       "    }\n",
       "</style>\n",
       "<table border=\"1\" class=\"dataframe\">\n",
       "  <thead>\n",
       "    <tr style=\"text-align: right;\">\n",
       "      <th></th>\n",
       "      <th>Date</th>\n",
       "      <th>Frequency</th>\n",
       "      <th>Region</th>\n",
       "      <th>Value</th>\n",
       "    </tr>\n",
       "  </thead>\n",
       "  <tbody>\n",
       "    <tr>\n",
       "      <th>0</th>\n",
       "      <td>2001</td>\n",
       "      <td>Annual</td>\n",
       "      <td>United States</td>\n",
       "      <td>284968955.0</td>\n",
       "    </tr>\n",
       "    <tr>\n",
       "      <th>1</th>\n",
       "      <td>2005</td>\n",
       "      <td>Annual</td>\n",
       "      <td>United States</td>\n",
       "      <td>295516599.0</td>\n",
       "    </tr>\n",
       "    <tr>\n",
       "      <th>2</th>\n",
       "      <td>2008</td>\n",
       "      <td>Annual</td>\n",
       "      <td>United States</td>\n",
       "      <td>304093966.0</td>\n",
       "    </tr>\n",
       "    <tr>\n",
       "      <th>3</th>\n",
       "      <td>2009</td>\n",
       "      <td>Annual</td>\n",
       "      <td>United States</td>\n",
       "      <td>306771529.0</td>\n",
       "    </tr>\n",
       "    <tr>\n",
       "      <th>4</th>\n",
       "      <td>2002</td>\n",
       "      <td>Annual</td>\n",
       "      <td>Northeast</td>\n",
       "      <td>54143915.0</td>\n",
       "    </tr>\n",
       "  </tbody>\n",
       "</table>\n",
       "</div>"
      ],
      "text/plain": [
       "   Date Frequency         Region        Value\n",
       "0  2001    Annual  United States  284968955.0\n",
       "1  2005    Annual  United States  295516599.0\n",
       "2  2008    Annual  United States  304093966.0\n",
       "3  2009    Annual  United States  306771529.0\n",
       "4  2002    Annual      Northeast   54143915.0"
      ]
     },
     "execution_count": 79,
     "metadata": {},
     "output_type": "execute_result"
    }
   ],
   "source": [
    "dsUs.head()"
   ]
  },
  {
   "cell_type": "code",
   "execution_count": 80,
   "metadata": {},
   "outputs": [
    {
     "data": {
      "text/html": [
       "<div>\n",
       "<style scoped>\n",
       "    .dataframe tbody tr th:only-of-type {\n",
       "        vertical-align: middle;\n",
       "    }\n",
       "\n",
       "    .dataframe tbody tr th {\n",
       "        vertical-align: top;\n",
       "    }\n",
       "\n",
       "    .dataframe thead th {\n",
       "        text-align: right;\n",
       "    }\n",
       "</style>\n",
       "<table border=\"1\" class=\"dataframe\">\n",
       "  <thead>\n",
       "    <tr style=\"text-align: right;\">\n",
       "      <th></th>\n",
       "      <th>country</th>\n",
       "      <th>COUNTRY_NOTES</th>\n",
       "      <th>DATE</th>\n",
       "      <th>FREQUENCY</th>\n",
       "      <th>VALUE</th>\n",
       "      <th>variable</th>\n",
       "      <th>unit</th>\n",
       "    </tr>\n",
       "  </thead>\n",
       "  <tbody>\n",
       "    <tr>\n",
       "      <th>0</th>\n",
       "      <td>Azerbaijan</td>\n",
       "      <td>(9) Including Nagorno-Karabakh.</td>\n",
       "      <td>2010</td>\n",
       "      <td>Annual</td>\n",
       "      <td>0.692846</td>\n",
       "      <td>Average Annual Rate of Change of the Rural Pop...</td>\n",
       "      <td>%</td>\n",
       "    </tr>\n",
       "    <tr>\n",
       "      <th>1</th>\n",
       "      <td>Bahrain</td>\n",
       "      <td>NaN</td>\n",
       "      <td>1980</td>\n",
       "      <td>Annual</td>\n",
       "      <td>4.446884</td>\n",
       "      <td>Average Annual Rate of Change of the Rural Pop...</td>\n",
       "      <td>%</td>\n",
       "    </tr>\n",
       "    <tr>\n",
       "      <th>2</th>\n",
       "      <td>Bahrain</td>\n",
       "      <td>NaN</td>\n",
       "      <td>2010</td>\n",
       "      <td>Annual</td>\n",
       "      <td>6.296585</td>\n",
       "      <td>Average Annual Rate of Change of the Rural Pop...</td>\n",
       "      <td>%</td>\n",
       "    </tr>\n",
       "    <tr>\n",
       "      <th>3</th>\n",
       "      <td>Bahrain</td>\n",
       "      <td>NaN</td>\n",
       "      <td>2040</td>\n",
       "      <td>Annual</td>\n",
       "      <td>-0.723549</td>\n",
       "      <td>Average Annual Rate of Change of the Rural Pop...</td>\n",
       "      <td>%</td>\n",
       "    </tr>\n",
       "    <tr>\n",
       "      <th>4</th>\n",
       "      <td>Bahrain</td>\n",
       "      <td>NaN</td>\n",
       "      <td>2050</td>\n",
       "      <td>Annual</td>\n",
       "      <td>-1.036793</td>\n",
       "      <td>Average Annual Rate of Change of the Rural Pop...</td>\n",
       "      <td>%</td>\n",
       "    </tr>\n",
       "  </tbody>\n",
       "</table>\n",
       "</div>"
      ],
      "text/plain": [
       "      country                    COUNTRY_NOTES  DATE FREQUENCY     VALUE  \\\n",
       "0  Azerbaijan  (9) Including Nagorno-Karabakh.  2010    Annual  0.692846   \n",
       "1     Bahrain                              NaN  1980    Annual  4.446884   \n",
       "2     Bahrain                              NaN  2010    Annual  6.296585   \n",
       "3     Bahrain                              NaN  2040    Annual -0.723549   \n",
       "4     Bahrain                              NaN  2050    Annual -1.036793   \n",
       "\n",
       "                                            variable unit  \n",
       "0  Average Annual Rate of Change of the Rural Pop...    %  \n",
       "1  Average Annual Rate of Change of the Rural Pop...    %  \n",
       "2  Average Annual Rate of Change of the Rural Pop...    %  \n",
       "3  Average Annual Rate of Change of the Rural Pop...    %  \n",
       "4  Average Annual Rate of Change of the Rural Pop...    %  "
      ]
     },
     "execution_count": 80,
     "metadata": {},
     "output_type": "execute_result"
    }
   ],
   "source": [
    "dsUp.head()"
   ]
  },
  {
   "cell_type": "code",
   "execution_count": 81,
   "metadata": {},
   "outputs": [
    {
     "data": {
      "text/plain": [
       "Index(['country', 'COUNTRY_NOTES', 'DATE', 'FREQUENCY', 'VALUE', 'variable',\n",
       "       'unit'],\n",
       "      dtype='object')"
      ]
     },
     "execution_count": 81,
     "metadata": {},
     "output_type": "execute_result"
    }
   ],
   "source": [
    "dsUp.columns"
   ]
  },
  {
   "cell_type": "code",
   "execution_count": 86,
   "metadata": {},
   "outputs": [
    {
     "name": "stdout",
     "output_type": "stream",
     "text": [
      "<class 'pandas.core.frame.DataFrame'>\n",
      "RangeIndex: 137592 entries, 0 to 137591\n",
      "Data columns (total 7 columns):\n",
      "country          137592 non-null object\n",
      "COUNTRY_NOTES    17640 non-null object\n",
      "DATE             137592 non-null int64\n",
      "FREQUENCY        137592 non-null object\n",
      "VALUE            137592 non-null float64\n",
      "variable         137592 non-null object\n",
      "unit             137592 non-null object\n",
      "dtypes: float64(1), int64(1), object(5)\n",
      "memory usage: 7.3+ MB\n"
     ]
    }
   ],
   "source": [
    "dsUp.info()"
   ]
  },
  {
   "cell_type": "code",
   "execution_count": 83,
   "metadata": {},
   "outputs": [
    {
     "data": {
      "text/plain": [
       "country          137592\n",
       "COUNTRY_NOTES     17640\n",
       "DATE             137592\n",
       "FREQUENCY        137592\n",
       "VALUE            137592\n",
       "variable         137592\n",
       "unit             137592\n",
       "dtype: int64"
      ]
     },
     "execution_count": 83,
     "metadata": {},
     "output_type": "execute_result"
    }
   ],
   "source": [
    "dsUp.count()"
   ]
  },
  {
   "cell_type": "code",
   "execution_count": 84,
   "metadata": {},
   "outputs": [],
   "source": [
    "dsUp = dsUp.where((pd.notnull(dsUp)), None)"
   ]
  },
  {
   "cell_type": "code",
   "execution_count": 85,
   "metadata": {},
   "outputs": [
    {
     "data": {
      "text/plain": [
       "country          137592\n",
       "COUNTRY_NOTES     17640\n",
       "DATE             137592\n",
       "FREQUENCY        137592\n",
       "VALUE            137592\n",
       "variable         137592\n",
       "unit             137592\n",
       "dtype: int64"
      ]
     },
     "execution_count": 85,
     "metadata": {},
     "output_type": "execute_result"
    }
   ],
   "source": [
    "dsUp.count()"
   ]
  },
  {
   "cell_type": "code",
   "execution_count": 88,
   "metadata": {},
   "outputs": [
    {
     "data": {
      "text/html": [
       "<div>\n",
       "<style scoped>\n",
       "    .dataframe tbody tr th:only-of-type {\n",
       "        vertical-align: middle;\n",
       "    }\n",
       "\n",
       "    .dataframe tbody tr th {\n",
       "        vertical-align: top;\n",
       "    }\n",
       "\n",
       "    .dataframe thead th {\n",
       "        text-align: right;\n",
       "    }\n",
       "</style>\n",
       "<table border=\"1\" class=\"dataframe\">\n",
       "  <thead>\n",
       "    <tr style=\"text-align: right;\">\n",
       "      <th></th>\n",
       "      <th>DATE</th>\n",
       "      <th>VALUE</th>\n",
       "    </tr>\n",
       "  </thead>\n",
       "  <tbody>\n",
       "    <tr>\n",
       "      <th>count</th>\n",
       "      <td>137592.000000</td>\n",
       "      <td>1.375920e+05</td>\n",
       "    </tr>\n",
       "    <tr>\n",
       "      <th>mean</th>\n",
       "      <td>2000.496032</td>\n",
       "      <td>7.655607e+04</td>\n",
       "    </tr>\n",
       "    <tr>\n",
       "      <th>std</th>\n",
       "      <td>29.108074</td>\n",
       "      <td>4.413885e+05</td>\n",
       "    </tr>\n",
       "    <tr>\n",
       "      <th>min</th>\n",
       "      <td>1950.000000</td>\n",
       "      <td>-5.370025e+01</td>\n",
       "    </tr>\n",
       "    <tr>\n",
       "      <th>25%</th>\n",
       "      <td>1975.000000</td>\n",
       "      <td>1.122700e+01</td>\n",
       "    </tr>\n",
       "    <tr>\n",
       "      <th>50%</th>\n",
       "      <td>2000.000000</td>\n",
       "      <td>9.420600e+01</td>\n",
       "    </tr>\n",
       "    <tr>\n",
       "      <th>75%</th>\n",
       "      <td>2025.000000</td>\n",
       "      <td>5.753037e+03</td>\n",
       "    </tr>\n",
       "    <tr>\n",
       "      <th>max</th>\n",
       "      <td>2050.000000</td>\n",
       "      <td>9.771823e+06</td>\n",
       "    </tr>\n",
       "  </tbody>\n",
       "</table>\n",
       "</div>"
      ],
      "text/plain": [
       "                DATE         VALUE\n",
       "count  137592.000000  1.375920e+05\n",
       "mean     2000.496032  7.655607e+04\n",
       "std        29.108074  4.413885e+05\n",
       "min      1950.000000 -5.370025e+01\n",
       "25%      1975.000000  1.122700e+01\n",
       "50%      2000.000000  9.420600e+01\n",
       "75%      2025.000000  5.753037e+03\n",
       "max      2050.000000  9.771823e+06"
      ]
     },
     "execution_count": 88,
     "metadata": {},
     "output_type": "execute_result"
    }
   ],
   "source": [
    "dsUp.describe()"
   ]
  },
  {
   "cell_type": "code",
   "execution_count": 89,
   "metadata": {},
   "outputs": [
    {
     "data": {
      "text/html": [
       "<div>\n",
       "<style scoped>\n",
       "    .dataframe tbody tr th:only-of-type {\n",
       "        vertical-align: middle;\n",
       "    }\n",
       "\n",
       "    .dataframe tbody tr th {\n",
       "        vertical-align: top;\n",
       "    }\n",
       "\n",
       "    .dataframe thead th {\n",
       "        text-align: right;\n",
       "    }\n",
       "</style>\n",
       "<table border=\"1\" class=\"dataframe\">\n",
       "  <thead>\n",
       "    <tr style=\"text-align: right;\">\n",
       "      <th></th>\n",
       "      <th>country</th>\n",
       "      <th>COUNTRY_NOTES</th>\n",
       "      <th>DATE</th>\n",
       "      <th>FREQUENCY</th>\n",
       "      <th>VALUE</th>\n",
       "      <th>variable</th>\n",
       "      <th>unit</th>\n",
       "    </tr>\n",
       "  </thead>\n",
       "  <tbody>\n",
       "    <tr>\n",
       "      <th>0</th>\n",
       "      <td>Azerbaijan</td>\n",
       "      <td>(9) Including Nagorno-Karabakh.</td>\n",
       "      <td>2010</td>\n",
       "      <td>Annual</td>\n",
       "      <td>0.692846</td>\n",
       "      <td>Average Annual Rate of Change of the Rural Pop...</td>\n",
       "      <td>%</td>\n",
       "    </tr>\n",
       "    <tr>\n",
       "      <th>1</th>\n",
       "      <td>Bahrain</td>\n",
       "      <td>None</td>\n",
       "      <td>1980</td>\n",
       "      <td>Annual</td>\n",
       "      <td>4.446884</td>\n",
       "      <td>Average Annual Rate of Change of the Rural Pop...</td>\n",
       "      <td>%</td>\n",
       "    </tr>\n",
       "    <tr>\n",
       "      <th>2</th>\n",
       "      <td>Bahrain</td>\n",
       "      <td>None</td>\n",
       "      <td>2010</td>\n",
       "      <td>Annual</td>\n",
       "      <td>6.296585</td>\n",
       "      <td>Average Annual Rate of Change of the Rural Pop...</td>\n",
       "      <td>%</td>\n",
       "    </tr>\n",
       "    <tr>\n",
       "      <th>3</th>\n",
       "      <td>Bahrain</td>\n",
       "      <td>None</td>\n",
       "      <td>2040</td>\n",
       "      <td>Annual</td>\n",
       "      <td>-0.723549</td>\n",
       "      <td>Average Annual Rate of Change of the Rural Pop...</td>\n",
       "      <td>%</td>\n",
       "    </tr>\n",
       "    <tr>\n",
       "      <th>4</th>\n",
       "      <td>Bahrain</td>\n",
       "      <td>None</td>\n",
       "      <td>2050</td>\n",
       "      <td>Annual</td>\n",
       "      <td>-1.036793</td>\n",
       "      <td>Average Annual Rate of Change of the Rural Pop...</td>\n",
       "      <td>%</td>\n",
       "    </tr>\n",
       "  </tbody>\n",
       "</table>\n",
       "</div>"
      ],
      "text/plain": [
       "      country                    COUNTRY_NOTES  DATE FREQUENCY     VALUE  \\\n",
       "0  Azerbaijan  (9) Including Nagorno-Karabakh.  2010    Annual  0.692846   \n",
       "1     Bahrain                             None  1980    Annual  4.446884   \n",
       "2     Bahrain                             None  2010    Annual  6.296585   \n",
       "3     Bahrain                             None  2040    Annual -0.723549   \n",
       "4     Bahrain                             None  2050    Annual -1.036793   \n",
       "\n",
       "                                            variable unit  \n",
       "0  Average Annual Rate of Change of the Rural Pop...    %  \n",
       "1  Average Annual Rate of Change of the Rural Pop...    %  \n",
       "2  Average Annual Rate of Change of the Rural Pop...    %  \n",
       "3  Average Annual Rate of Change of the Rural Pop...    %  \n",
       "4  Average Annual Rate of Change of the Rural Pop...    %  "
      ]
     },
     "execution_count": 89,
     "metadata": {},
     "output_type": "execute_result"
    }
   ],
   "source": [
    "dsUp.head()"
   ]
  },
  {
   "cell_type": "code",
   "execution_count": 91,
   "metadata": {},
   "outputs": [
    {
     "data": {
      "text/plain": [
       "<matplotlib.axes._subplots.AxesSubplot at 0x1a34376c50>"
      ]
     },
     "execution_count": 91,
     "metadata": {},
     "output_type": "execute_result"
    },
    {
     "data": {
      "image/png": "[encoded data removed]",
      "text/plain": [
       "<Figure size 432x288 with 1 Axes>"
      ]
     },
     "metadata": {},
     "output_type": "display_data"
    }
   ],
   "source": [
    "dsUp['DATE'].plot('hist')"
   ]
  },
  {
   "cell_type": "code",
   "execution_count": null,
   "metadata": {},
   "outputs": [],
   "source": []
  }
 ],
 "metadata": {
  "kernelspec": {
   "display_name": "Python 3",
   "language": "python",
   "name": "python3"
  },
  "language_info": {
   "codemirror_mode": {
    "name": "ipython",
    "version": 3
   },
   "file_extension": ".py",
   "mimetype": "text/x-python",
   "name": "python",
   "nbconvert_exporter": "python",
   "pygments_lexer": "ipython3",
   "version": "3.7.1"
  }
 },
 "nbformat": 4,
 "nbformat_minor": 2
}
